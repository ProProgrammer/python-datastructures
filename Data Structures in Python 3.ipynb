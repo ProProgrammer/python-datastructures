{
 "cells": [
  {
   "cell_type": "markdown",
   "metadata": {},
   "source": [
    "# Linked Lists\n",
    "\n",
    "- Trying to implement a linked list in Python while reading about it through various online sources\n",
    "\n",
    "**Linked Lists**\n",
    "- Linked lists are data structures consisting of nodes\n",
    "- Each node has some value and a pointer to the next node in the linked list\n",
    "- Advantage: Often compared to arrays but arrays consume block of memory from the get go (as you have to define an array at the start) while Linked lists do not consume block of memory and they can grow on need basis\n",
    "- Disadvantage: Arrays have constant lookup time because at any point you can literally get anything in the array by its index, however Linked Lists have linear look up time O(n), which means, you have to traverse through the list and check for the value in each node of linked list and if the value does not match to what you are looking for, take the pointer to the next node in the list and then go to that node and check for value there and keep doing until you find the node that has the value that you wanted.\n",
    "\n",
    "**Study Advise:**\n",
    "- While Linked lists might not be very popular in dynamic langauges like Python, Ruby, etc. knowledge of how they work internally is helpful since very often there are several data structures that internally use Linked Lists for their implementation.\n",
    "\n",
    "- INFO: Several front-end frameworks too use linked lists, stacks, etc. which are not very common data structures if you think of dynamic languages"
   ]
  },
  {
   "cell_type": "code",
   "execution_count": 1,
   "metadata": {},
   "outputs": [],
   "source": [
    "# Let us start by defining a class for Node in linked list\n",
    "class Node:\n",
    "    def __init__(self, val):\n",
    "        # A node should have some value\n",
    "        self.val = val\n",
    "        \n",
    "        # and a pointer to next node in the linked list\n",
    "        self.next = None # Initially the pointer is set to None.\n",
    "        # The pointer is updated as more nodes are added to the linked list"
   ]
  },
  {
   "cell_type": "code",
   "execution_count": 5,
   "metadata": {},
   "outputs": [
    {
     "name": "stdout",
     "output_type": "stream",
     "text": [
      "{'val': 'alpha', 'next': <__main__.Node object at 0x10949e9a0>}\n",
      "{'val': 'beta', 'next': None}\n",
      "True\n"
     ]
    }
   ],
   "source": [
    "# Let us define a few nodes in the Linked List\n",
    "node_1 = Node('alpha')\n",
    "node_2 = Node('beta')\n",
    "\n",
    "# Now let us form a Linked List out of these two nodes by setting the \n",
    "# next attribute such that in the list node_1 is the first node and node_2\n",
    "# is the second node\n",
    "node_1.next = node_2\n",
    "\n",
    "print(vars(node_1))\n",
    "print(vars(node_1.next))\n",
    "print(node_1.next == node_2)\n",
    "\n",
    "# So now the linked list is of this shape:\n",
    "# node_1 -> node_2"
   ]
  },
  {
   "cell_type": "markdown",
   "metadata": {},
   "source": [
    "- The first node is referred to as the header\n",
    "- so node_1 in this case is the header"
   ]
  },
  {
   "cell_type": "markdown",
   "metadata": {},
   "source": [
    "**Let us traverse through our Linked List**"
   ]
  },
  {
   "cell_type": "code",
   "execution_count": 12,
   "metadata": {},
   "outputs": [
    {
     "name": "stdout",
     "output_type": "stream",
     "text": [
      "Traversing through the Linked List\n",
      "* header node\n",
      "* middle node\n",
      "* Last node\n",
      "We are at the end of Linked List\n"
     ]
    }
   ],
   "source": [
    "# Updating Node class definition\n",
    "class Node:\n",
    "    def __init__(self, val):\n",
    "        self.val= val\n",
    "        self.next = None # Initially, the next attrib is set to None\n",
    "    \n",
    "    def traverse(self):\n",
    "        print('Traversing through the Linked List')\n",
    "        # We must begin from the header Node to ensure we fully traverse\n",
    "        node = self # initially the node is set to self (header node)\n",
    "        while node:\n",
    "            print(node.val)\n",
    "            node = node.next # if this is None, it means we are at the end of our Linked List\n",
    "        \n",
    "        print('We are at the end of Linked List')\n",
    "    \n",
    "# Let us start with our node traversing now:\n",
    "node_1 = Node('* header node')\n",
    "node_2 = Node('* middle node')\n",
    "node_3 = Node('* Last node')\n",
    "node_1.next = node_2\n",
    "node_2.next = node_3\n",
    "\n",
    "node_1.traverse()"
   ]
  },
  {
   "cell_type": "markdown",
   "metadata": {},
   "source": [
    "**Doubly Linked Lists**\n",
    "- Now let us look at Doubly Linked Lists\n",
    "- These are slightly more flexible and probably more pragmatic\n",
    "\n",
    "Every node in a doubly linked list has two nodes, one pointing to the next node and the other pointing to the previous node\n",
    "Let us checkout a sample implementation"
   ]
  },
  {
   "cell_type": "code",
   "execution_count": 13,
   "metadata": {},
   "outputs": [],
   "source": [
    "class DoubleLinkedListNode:\n",
    "    def __init__(self, val):\n",
    "        self.val = val\n",
    "        self.previous = None \n",
    "        self.next = None"
   ]
  },
  {
   "cell_type": "markdown",
   "metadata": {},
   "source": [
    "_Pros of Doubly Linked Lists:_\n",
    "- Can be traversed in both directions (forward and backward)\n",
    "\n",
    "_Cons of Doubly Linked Lists:_\n",
    "- Nodes need more space, because they are saving one additional pointer\n",
    "- Needs more work to maintain the pointers (there's one extra pointer to be maintained)\n",
    "  - For e.g. if the node you are deleting is not the last node, you will have to update:\n",
    "    - the `previous` attribute on the node after the node being deleted\n",
    "    - the `next` attribute on the node before the node being deleted\n",
    "  - Basically you will have to maintain the chain of nodes (draw it out on a piece of paper for it to make sense)"
   ]
  },
  {
   "cell_type": "code",
   "execution_count": null,
   "metadata": {},
   "outputs": [],
   "source": []
  }
 ],
 "metadata": {
  "kernelspec": {
   "display_name": "Python 3",
   "language": "python",
   "name": "python3"
  },
  "language_info": {
   "codemirror_mode": {
    "name": "ipython",
    "version": 3
   },
   "file_extension": ".py",
   "mimetype": "text/x-python",
   "name": "python",
   "nbconvert_exporter": "python",
   "pygments_lexer": "ipython3",
   "version": "3.8.0"
  }
 },
 "nbformat": 4,
 "nbformat_minor": 4
}
